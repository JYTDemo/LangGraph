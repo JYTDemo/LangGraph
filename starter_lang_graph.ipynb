{
 "cells": [
  {
   "cell_type": "markdown",
   "id": "c6930375-7fb8-4ae7-ac87-b6e1acedd61e",
   "metadata": {},
   "source": [
    "# Linear Graph"
   ]
  },
  {
   "cell_type": "code",
   "execution_count": 14,
   "id": "61e76cbc-e149-4d27-b48a-d864ba503e03",
   "metadata": {
    "execution": {
     "iopub.execute_input": "2024-06-02T15:48:49.886400Z",
     "iopub.status.busy": "2024-06-02T15:48:49.881415Z",
     "iopub.status.idle": "2024-06-02T15:48:49.903776Z",
     "shell.execute_reply": "2024-06-02T15:48:49.902262Z",
     "shell.execute_reply.started": "2024-06-02T15:48:49.885402Z"
    }
   },
   "outputs": [],
   "source": [
    "def function_1(input):\n",
    "    return input + \" Hi \"\n",
    "\n",
    "def function_2(input):\n",
    "    return input + \"there\"\n",
    "\n",
    "def function_3(input):\n",
    "    if input == \"Hello Hi\":\n",
    "        return \"Next\"\n",
    "    else:\n",
    "        return input_2 + \"there\"\n",
    "\n",
    "def function_4(input):\n",
    "    return \"Agent says :\" +input "
   ]
  },
  {
   "cell_type": "code",
   "execution_count": 15,
   "id": "01c2b4c3-e6d5-4a65-bed1-ec110cfabd8f",
   "metadata": {
    "execution": {
     "iopub.execute_input": "2024-06-02T15:48:50.651605Z",
     "iopub.status.busy": "2024-06-02T15:48:50.650843Z",
     "iopub.status.idle": "2024-06-02T15:48:50.672106Z",
     "shell.execute_reply": "2024-06-02T15:48:50.671097Z",
     "shell.execute_reply.started": "2024-06-02T15:48:50.651605Z"
    }
   },
   "outputs": [],
   "source": [
    "from langgraph.graph import Graph\n",
    "\n",
    "# Define a Langchain graph\n",
    "workflow = Graph()\n",
    "\n",
    "workflow.add_node(\"node_1\", function_1)\n",
    "workflow.add_node(\"node_2\", function_2)\n",
    "\n",
    "workflow.add_edge('node_1', 'node_2')\n",
    "\n",
    "workflow.set_entry_point(\"node_1\")\n",
    "workflow.set_finish_point(\"node_2\")\n",
    "\n",
    "app = workflow.compile()"
   ]
  },
  {
   "cell_type": "code",
   "execution_count": 16,
   "id": "b8977002-843b-40bb-bc6e-2d5e7fddb205",
   "metadata": {
    "execution": {
     "iopub.execute_input": "2024-06-02T15:48:57.582971Z",
     "iopub.status.busy": "2024-06-02T15:48:57.582057Z",
     "iopub.status.idle": "2024-06-02T15:48:57.603205Z",
     "shell.execute_reply": "2024-06-02T15:48:57.603205Z",
     "shell.execute_reply.started": "2024-06-02T15:48:57.582971Z"
    }
   },
   "outputs": [
    {
     "name": "stdout",
     "output_type": "stream",
     "text": [
      "Output from node 'node_1':\n",
      "---\n",
      "Hello Hi \n",
      "\n",
      "---\n",
      "\n",
      "Output from node 'node_2':\n",
      "---\n",
      "Hello Hi there\n",
      "\n",
      "---\n",
      "\n"
     ]
    }
   ],
   "source": [
    "input = 'Hello'\n",
    "for output in app.stream(input):\n",
    "    # stream() yields dictionaries with output keyed by node name\n",
    "    for key, value in output.items():\n",
    "        print(f\"Output from node '{key}':\")\n",
    "        print(\"---\")\n",
    "        print(value)\n",
    "    print(\"\\n---\\n\")"
   ]
  },
  {
   "cell_type": "markdown",
   "id": "0e6ccc0a-2e3b-4cb1-a44b-7287ee45a762",
   "metadata": {},
   "source": [
    "# Decision Graph"
   ]
  },
  {
   "cell_type": "code",
   "execution_count": 8,
   "id": "e2cd8720-fdc1-4d72-acc7-8109999ed835",
   "metadata": {
    "execution": {
     "iopub.execute_input": "2024-06-02T15:00:54.498953Z",
     "iopub.status.busy": "2024-06-02T15:00:54.498953Z",
     "iopub.status.idle": "2024-06-02T15:00:54.505579Z",
     "shell.execute_reply": "2024-06-02T15:00:54.505079Z",
     "shell.execute_reply.started": "2024-06-02T15:00:54.498953Z"
    }
   },
   "outputs": [],
   "source": [
    "from typing import TypedDict, Annotated, Sequence\n",
    "import operator\n",
    "from langchain_core.messages import BaseMessage\n",
    "\n",
    "\n",
    "class AgentState(TypedDict):\n",
    "    messages: Annotated[Sequence[BaseMessage], operator.add]"
   ]
  },
  {
   "cell_type": "code",
   "execution_count": 9,
   "id": "8472f27f-1c3d-4aa9-9361-cdc89ad122cc",
   "metadata": {
    "execution": {
     "iopub.execute_input": "2024-06-02T15:00:54.972054Z",
     "iopub.status.busy": "2024-06-02T15:00:54.971057Z",
     "iopub.status.idle": "2024-06-02T15:00:54.980036Z",
     "shell.execute_reply": "2024-06-02T15:00:54.979041Z",
     "shell.execute_reply.started": "2024-06-02T15:00:54.972054Z"
    }
   },
   "outputs": [],
   "source": [
    "def function_1(state):\n",
    "    messages = state['messages']\n",
    "    message =  \"Hi\"\n",
    "    return {\"messages\": [message]} \n",
    "\n",
    "def function_2(state):\n",
    "    messages = state['messages']\n",
    "    message = \"there\"\n",
    "    return {\"messages\": [message]} \n",
    "\n",
    "def function_3(state):\n",
    "    messages = state['messages']\n",
    "    for i in state['messages']:\n",
    "        print(i)\n",
    "    if messages[0]==\"Hello\":\n",
    "        return \"node2\"\n",
    "    else:\n",
    "        return \"node4\"\n",
    "    return\n",
    "\n",
    "def function_4(state):\n",
    "    messages = state['messages']\n",
    "    message = \"Agent\"\n",
    "    return {\"messages\": [message]}  "
   ]
  },
  {
   "cell_type": "code",
   "execution_count": 10,
   "id": "0cbc0bf7-80b7-4d9b-9e67-83eae67b01bf",
   "metadata": {
    "execution": {
     "iopub.execute_input": "2024-06-02T15:00:56.020515Z",
     "iopub.status.busy": "2024-06-02T15:00:56.020515Z",
     "iopub.status.idle": "2024-06-02T15:00:56.028463Z",
     "shell.execute_reply": "2024-06-02T15:00:56.027943Z",
     "shell.execute_reply.started": "2024-06-02T15:00:56.020515Z"
    }
   },
   "outputs": [],
   "source": [
    "from langgraph.graph import StateGraph, END\n",
    "workflow = StateGraph(AgentState)\n",
    "\n",
    "workflow.add_node(\"node_1\", function_1)\n",
    "workflow.add_node(\"node_2\", function_2)\n",
    "workflow.add_node(\"node_4\", function_4)\n",
    "workflow.add_conditional_edges(\"node_1\", function_3,{   # Based on the return from function_3\n",
    "                                                        # If return is \"continue\" then we call the tool node.\n",
    "                                                        \"node2\": \"node_2\",\n",
    "                                                        # Otherwise we finish. END is a special node marking that the graph should finish.\n",
    "                                                        \"node4\": \"node_4\"\n",
    "                                                    }\n",
    ")\n",
    "\n",
    "\n",
    "workflow.add_edge('node_2',END)\n",
    "workflow.add_edge('node_4',END)\n",
    "workflow.set_entry_point(\"node_1\")\n",
    "\n",
    "\n",
    "app = workflow.compile()"
   ]
  },
  {
   "cell_type": "code",
   "execution_count": 11,
   "id": "42ec5ff7-6841-476d-900f-e09d1b4f03a9",
   "metadata": {
    "execution": {
     "iopub.execute_input": "2024-06-02T15:00:56.927474Z",
     "iopub.status.busy": "2024-06-02T15:00:56.926733Z",
     "iopub.status.idle": "2024-06-02T15:00:56.953242Z",
     "shell.execute_reply": "2024-06-02T15:00:56.952238Z",
     "shell.execute_reply.started": "2024-06-02T15:00:56.927474Z"
    }
   },
   "outputs": [
    {
     "name": "stdout",
     "output_type": "stream",
     "text": [
      "Joy\n",
      "Hi\n"
     ]
    },
    {
     "data": {
      "text/plain": [
       "{'messages': ['Joy', 'Hi', 'Agent']}"
      ]
     },
     "execution_count": 11,
     "metadata": {},
     "output_type": "execute_result"
    }
   ],
   "source": [
    "inputs = {\"messages\": [\"Joy\"]}\n",
    "app.invoke(inputs)"
   ]
  },
  {
   "cell_type": "code",
   "execution_count": 13,
   "id": "e9216874-7ec4-455e-8606-6b34de9a52a7",
   "metadata": {
    "execution": {
     "iopub.execute_input": "2024-06-02T15:01:38.789766Z",
     "iopub.status.busy": "2024-06-02T15:01:38.789766Z",
     "iopub.status.idle": "2024-06-02T15:01:38.814678Z",
     "shell.execute_reply": "2024-06-02T15:01:38.813675Z",
     "shell.execute_reply.started": "2024-06-02T15:01:38.789766Z"
    }
   },
   "outputs": [
    {
     "name": "stdout",
     "output_type": "stream",
     "text": [
      "Hello\n",
      "Hi\n"
     ]
    },
    {
     "data": {
      "text/plain": [
       "{'messages': ['Hello', 'Hi', 'there']}"
      ]
     },
     "execution_count": 13,
     "metadata": {},
     "output_type": "execute_result"
    }
   ],
   "source": [
    "inputs = {\"messages\": [\"Hello\"]}\n",
    "app.invoke(inputs)"
   ]
  },
  {
   "cell_type": "code",
   "execution_count": 12,
   "id": "a636f62c-cbc0-4a50-af1c-24488ca3e364",
   "metadata": {
    "execution": {
     "iopub.execute_input": "2024-06-02T15:01:03.756458Z",
     "iopub.status.busy": "2024-06-02T15:01:03.755509Z",
     "iopub.status.idle": "2024-06-02T15:01:03.786454Z",
     "shell.execute_reply": "2024-06-02T15:01:03.785880Z",
     "shell.execute_reply.started": "2024-06-02T15:01:03.756458Z"
    }
   },
   "outputs": [
    {
     "name": "stdout",
     "output_type": "stream",
     "text": [
      "Hello\n",
      "Hi\n",
      "Output from node 'node_1':\n",
      "---\n",
      "{'messages': ['Hi']}\n",
      "\n",
      "---\n",
      "\n",
      "Output from node 'node_2':\n",
      "---\n",
      "{'messages': ['there']}\n",
      "\n",
      "---\n",
      "\n"
     ]
    }
   ],
   "source": [
    "inputs = {\"messages\": [\"Hello\"]}\n",
    "for output in app.stream(inputs):\n",
    "    # stream() yields dictionaries with output keyed by node name\n",
    "    for key, value in output.items():\n",
    "        print(f\"Output from node '{key}':\")\n",
    "        print(\"---\")\n",
    "        print(value)\n",
    "    print(\"\\n---\\n\")"
   ]
  },
  {
   "cell_type": "code",
   "execution_count": null,
   "id": "ac11c11c-fe08-465d-99d0-236c029e715d",
   "metadata": {},
   "outputs": [],
   "source": []
  }
 ],
 "metadata": {
  "kernelspec": {
   "display_name": "Python 3 (ipykernel)",
   "language": "python",
   "name": "python3"
  },
  "language_info": {
   "codemirror_mode": {
    "name": "ipython",
    "version": 3
   },
   "file_extension": ".py",
   "mimetype": "text/x-python",
   "name": "python",
   "nbconvert_exporter": "python",
   "pygments_lexer": "ipython3",
   "version": "3.11.5"
  }
 },
 "nbformat": 4,
 "nbformat_minor": 5
}
